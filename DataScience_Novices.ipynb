{
  "nbformat": 4,
  "nbformat_minor": 0,
  "metadata": {
    "colab": {
      "provenance": []
    },
    "kernelspec": {
      "name": "python3",
      "display_name": "Python 3"
    },
    "language_info": {
      "name": "python"
    }
  },
  "cells": [
    {
      "cell_type": "code",
      "execution_count": null,
      "metadata": {
        "id": "IS4x_JVtS2AD"
      },
      "outputs": [],
      "source": [
        "import numpy as np\n",
        "import pandas as pd\n",
        "from sklearn.preprocessing import StandardScaler\n",
        "from sklearn.preprocessing import MinMaxScaler"
      ]
    },
    {
      "cell_type": "code",
      "source": [
        "train = pd.read_csv('TrainingData.csv')\n",
        "test = pd.read_csv('testX.csv')\n",
        "Y_default_ind = train['default_ind']"
      ],
      "metadata": {
        "colab": {
          "base_uri": "https://localhost:8080/"
        },
        "id": "u9uMXzMoS-GR",
        "outputId": "eab8a3e7-3616-42cf-b0b1-c60c9e51924e"
      },
      "execution_count": null,
      "outputs": [
        {
          "output_type": "stream",
          "name": "stderr",
          "text": [
            "/usr/local/lib/python3.8/dist-packages/IPython/core/interactiveshell.py:3326: DtypeWarning: Columns (19) have mixed types.Specify dtype option on import or set low_memory=False.\n",
            "  exec(code_obj, self.user_global_ns, self.user_ns)\n"
          ]
        }
      ]
    },
    {
      "cell_type": "code",
      "source": [
        "train = pd.get_dummies(train,columns = ['mvar47'],drop_first = True)\n",
        "for i in train.columns:\n",
        "  train[i] = pd.to_numeric(train[i], errors='coerce')\n",
        "sc= StandardScaler()\n",
        "train = train.drop(columns = ['default_ind'], axis = 1)\n",
        "train =  pd.DataFrame(sc.fit_transform(train), columns = train.columns)"
      ],
      "metadata": {
        "id": "1qNdXvoqTRIm"
      },
      "execution_count": null,
      "outputs": []
    },
    {
      "cell_type": "code",
      "source": [
        "Chi_x = pd.read_csv('TrainingData.csv')\n",
        "Chi_x = pd.get_dummies(Chi_x,columns = ['mvar47'],drop_first = True)\n",
        "for i in Chi_x.columns:\n",
        "  Chi_x[i] = pd.to_numeric(Chi_x[i], errors='coerce')\n",
        "mm= MinMaxScaler()\n",
        "Chi_x = Chi_x.drop(columns = ['default_ind'], axis = 1)\n",
        "Chi_x =  pd.DataFrame(mm.fit_transform(Chi_x), columns = Chi_x.columns)"
      ],
      "metadata": {
        "colab": {
          "base_uri": "https://localhost:8080/"
        },
        "id": "7VL91N8wVw67",
        "outputId": "d56be934-c061-4477-cac5-1232a0289aa4"
      },
      "execution_count": null,
      "outputs": [
        {
          "output_type": "stream",
          "name": "stderr",
          "text": [
            "/usr/local/lib/python3.8/dist-packages/IPython/core/interactiveshell.py:3326: DtypeWarning: Columns (19) have mixed types.Specify dtype option on import or set low_memory=False.\n",
            "  exec(code_obj, self.user_global_ns, self.user_ns)\n"
          ]
        }
      ]
    },
    {
      "cell_type": "code",
      "source": [
        "Chi_x.drop(columns=['application_key'],axis = 1, inplace = True)"
      ],
      "metadata": {
        "id": "LfwZEkN8WNa3"
      },
      "execution_count": null,
      "outputs": []
    },
    {
      "cell_type": "code",
      "source": [
        "Chi_x_ref = Chi_x.dropna()"
      ],
      "metadata": {
        "id": "NSKGl7s6WY96"
      },
      "execution_count": null,
      "outputs": []
    },
    {
      "cell_type": "code",
      "source": [
        "X_raw_train = train.drop(columns = ['application_key'], axis = 1)"
      ],
      "metadata": {
        "id": "Jrsw_eZtUd4I"
      },
      "execution_count": null,
      "outputs": []
    },
    {
      "cell_type": "code",
      "source": [
        "X_raw_add = X_raw_train.copy(deep = True)\n",
        "X_raw_add['mvar345'] = X_raw_add['mvar3']+X_raw_add['mvar4']+X_raw_add['mvar5']\n",
        "X_raw_add['mvar786'] = X_raw_add['mvar7']+X_raw_add['mvar8']-X_raw_add['mvar6']\n",
        "X_raw_add['mvar1719'] = X_raw_add['mvar17']+X_raw_add['mvar19']"
      ],
      "metadata": {
        "id": "gxWbKhdsTROr"
      },
      "execution_count": null,
      "outputs": []
    },
    {
      "cell_type": "code",
      "source": [
        "ref_df = X_raw_train.dropna()"
      ],
      "metadata": {
        "id": "B3WsL30qTijI"
      },
      "execution_count": null,
      "outputs": []
    },
    {
      "cell_type": "code",
      "source": [
        "nonnull_index = ref_df.index"
      ],
      "metadata": {
        "id": "j2lQE0-KU7q_"
      },
      "execution_count": null,
      "outputs": []
    },
    {
      "cell_type": "code",
      "source": [
        "from statsmodels.stats.outliers_influence import variance_inflation_factor\n",
        "vif_data = pd.DataFrame()\n",
        "vif_data[\"feature\"] = ref_df.columns\n",
        "  \n",
        "# calculating VIF for each feature\n",
        "vif_data[\"VIF\"] = [variance_inflation_factor(ref_df.values, i)\n",
        "                          for i in range(len(ref_df.columns))]\n",
        "  \n",
        "print(vif_data)"
      ],
      "metadata": {
        "colab": {
          "base_uri": "https://localhost:8080/"
        },
        "id": "3_KPGugtTinR",
        "outputId": "08aac278-5057-4be9-e011-f664928de554"
      },
      "execution_count": null,
      "outputs": [
        {
          "output_type": "stream",
          "name": "stdout",
          "text": [
            "     feature         VIF\n",
            "0      mvar1    6.731702\n",
            "1      mvar2    1.509904\n",
            "2      mvar3    2.796944\n",
            "3      mvar4    3.727393\n",
            "4      mvar5    1.580983\n",
            "5      mvar6    8.065493\n",
            "6      mvar7    6.182842\n",
            "7      mvar8    4.693850\n",
            "8      mvar9    7.838995\n",
            "9     mvar10    8.967643\n",
            "10    mvar11    1.243738\n",
            "11    mvar12    3.001184\n",
            "12    mvar13    3.093126\n",
            "13    mvar14    1.669384\n",
            "14    mvar15    1.708143\n",
            "15    mvar16    9.702990\n",
            "16    mvar17  111.242131\n",
            "17    mvar18   98.838697\n",
            "18    mvar19  178.747991\n",
            "19    mvar20  172.708843\n",
            "20    mvar21    4.095981\n",
            "21    mvar22    7.055717\n",
            "22    mvar23    4.677844\n",
            "23    mvar24    2.093553\n",
            "24    mvar25    7.169101\n",
            "25    mvar26    3.927927\n",
            "26    mvar27    4.902528\n",
            "27    mvar28    4.493725\n",
            "28    mvar29    2.325656\n",
            "29    mvar30    1.329874\n",
            "30    mvar31    1.537093\n",
            "31    mvar32   15.870861\n",
            "32    mvar33    1.462229\n",
            "33    mvar34    2.965942\n",
            "34    mvar35    1.684786\n",
            "35    mvar36   10.668177\n",
            "36    mvar37    7.495188\n",
            "37    mvar38    5.186603\n",
            "38    mvar39    2.456762\n",
            "39    mvar40    1.379096\n",
            "40    mvar41    1.474791\n",
            "41    mvar42    3.121352\n",
            "42    mvar43   11.636145\n",
            "43    mvar44    2.195039\n",
            "44    mvar45    1.697708\n",
            "45    mvar46    3.264670\n",
            "46    mvar48    1.201884\n",
            "47    mvar49  894.579961\n",
            "48    mvar50   93.354091\n",
            "49    mvar51  974.983667\n",
            "50  mvar47_L    1.341437\n"
          ]
        }
      ]
    },
    {
      "cell_type": "code",
      "source": [
        "from sklearn.feature_selection import mutual_info_classif\n",
        "\n",
        "mutual_info = mutual_info_classif(ref_df,Y_default_ind.iloc[nonnull_index])\n",
        "keys = mutual_info\n",
        "values = ref_df.columns\n",
        "\n",
        "mutualinfo_col = list(zip(keys,values))\n",
        "mutualinfo_col.sort(reverse = True)\n",
        "mutualinfo_col"
      ],
      "metadata": {
        "colab": {
          "base_uri": "https://localhost:8080/"
        },
        "id": "_EBplb8nTisB",
        "outputId": "2e89961d-9fad-4a33-8cb7-1ede848aa958"
      },
      "execution_count": null,
      "outputs": [
        {
          "output_type": "execute_result",
          "data": {
            "text/plain": [
              "[(0.09741670799160174, 'mvar8'),\n",
              " (0.07227978661915757, 'mvar13'),\n",
              " (0.06623178499089799, 'mvar21'),\n",
              " (0.06000273374734322, 'mvar1'),\n",
              " (0.05536691170837882, 'mvar40'),\n",
              " (0.05498902695316743, 'mvar15'),\n",
              " (0.0427509376951094, 'mvar9'),\n",
              " (0.04152433949668377, 'mvar28'),\n",
              " (0.04094389717705904, 'mvar12'),\n",
              " (0.04011237041992488, 'mvar6'),\n",
              " (0.036644521340275515, 'mvar23'),\n",
              " (0.03647286486252321, 'mvar10'),\n",
              " (0.03426755371513446, 'mvar3'),\n",
              " (0.03381332756170119, 'mvar34'),\n",
              " (0.033046020001815446, 'mvar24'),\n",
              " (0.031037806665054513, 'mvar41'),\n",
              " (0.02553746736759388, 'mvar43'),\n",
              " (0.024911997751314807, 'mvar37'),\n",
              " (0.023400134103281678, 'mvar35'),\n",
              " (0.02292883391286904, 'mvar47_L'),\n",
              " (0.022583290610909135, 'mvar14'),\n",
              " (0.021566356810115206, 'mvar48'),\n",
              " (0.020645783139507934, 'mvar46'),\n",
              " (0.02043825073482397, 'mvar5'),\n",
              " (0.01856785910691716, 'mvar4'),\n",
              " (0.01829988380195502, 'mvar22'),\n",
              " (0.017436747722046952, 'mvar36'),\n",
              " (0.01628732571638203, 'mvar42'),\n",
              " (0.01613158186298036, 'mvar18'),\n",
              " (0.015556452437649693, 'mvar39'),\n",
              " (0.01287944411935249, 'mvar30'),\n",
              " (0.011002546014065029, 'mvar16'),\n",
              " (0.00930051879749616, 'mvar44'),\n",
              " (0.008567857860890538, 'mvar50'),\n",
              " (0.006323820466584307, 'mvar17'),\n",
              " (0.005022178302777736, 'mvar25'),\n",
              " (0.0, 'mvar7'),\n",
              " (0.0, 'mvar51'),\n",
              " (0.0, 'mvar49'),\n",
              " (0.0, 'mvar45'),\n",
              " (0.0, 'mvar38'),\n",
              " (0.0, 'mvar33'),\n",
              " (0.0, 'mvar32'),\n",
              " (0.0, 'mvar31'),\n",
              " (0.0, 'mvar29'),\n",
              " (0.0, 'mvar27'),\n",
              " (0.0, 'mvar26'),\n",
              " (0.0, 'mvar20'),\n",
              " (0.0, 'mvar2'),\n",
              " (0.0, 'mvar19'),\n",
              " (0.0, 'mvar11')]"
            ]
          },
          "metadata": {},
          "execution_count": 98
        }
      ]
    },
    {
      "cell_type": "code",
      "source": [
        "from sklearn.feature_selection import chi2\n",
        "f_p_values=chi2(Chi_x_ref,Y_default_ind.iloc[nonnull_index])\n",
        "keys = (f_p_values[1])\n",
        "values = Chi_x_ref.columns\n",
        "\n",
        "pvalue_col = list(zip(keys,values))\n",
        "pvalue_col.sort(reverse = False)\n",
        "\n",
        "\n",
        "keys = (f_p_values[0])\n",
        "values = Chi_x_ref.columns\n",
        "\n",
        "fvalue_col = list(zip(keys,values))\n",
        "fvalue_col.sort(reverse = True)\n",
        "\n",
        "print(pvalue_col)\n",
        "print(fvalue_col)"
      ],
      "metadata": {
        "colab": {
          "base_uri": "https://localhost:8080/"
        },
        "id": "bhZQzZiQTiuH",
        "outputId": "146212e8-8c1b-4bf0-918f-4e4bbb69a810"
      },
      "execution_count": null,
      "outputs": [
        {
          "output_type": "stream",
          "name": "stdout",
          "text": [
            "[(0.10225602356558683, 'mvar50'), (0.16727538153716168, 'mvar35'), (0.20086307757525007, 'mvar16'), (0.20235919505534447, 'mvar47_L'), (0.3280396576124687, 'mvar28'), (0.37974180116843315, 'mvar18'), (0.39881432390169147, 'mvar17'), (0.40925798653478807, 'mvar39'), (0.42293517660344104, 'mvar46'), (0.465979352579201, 'mvar37'), (0.5115576189620061, 'mvar1'), (0.5292825947505648, 'mvar22'), (0.5548190432299438, 'mvar4'), (0.5737160861200912, 'mvar29'), (0.5760476221788853, 'mvar20'), (0.5790347897727732, 'mvar9'), (0.5884418628728115, 'mvar32'), (0.594420664763746, 'mvar19'), (0.6035936493614151, 'mvar34'), (0.6327581562060821, 'mvar30'), (0.6444584563491438, 'mvar27'), (0.6555084401239809, 'mvar48'), (0.6572288754355253, 'mvar42'), (0.6699350067952079, 'mvar8'), (0.6759112710465954, 'mvar6'), (0.686503727261567, 'mvar45'), (0.694730864544546, 'mvar23'), (0.6963970453067854, 'mvar26'), (0.7145201806843506, 'mvar21'), (0.7226164395517591, 'mvar25'), (0.7579132661979607, 'mvar12'), (0.7955002769926152, 'mvar41'), (0.8156264534913198, 'mvar2'), (0.8349437931480292, 'mvar36'), (0.8580364608821136, 'mvar11'), (0.8594129235704006, 'mvar10'), (0.8750274689238575, 'mvar3'), (0.8754873193780014, 'mvar40'), (0.8768293750825078, 'mvar38'), (0.8771654737436748, 'mvar33'), (0.9025031270525249, 'mvar13'), (0.9072586734383624, 'mvar15'), (0.9269395781427626, 'mvar24'), (0.9336487725695863, 'mvar31'), (0.9386287683740133, 'mvar43'), (0.938655189850548, 'mvar51'), (0.9414611406396081, 'mvar7'), (0.9536023378212076, 'mvar44'), (0.9641160402010767, 'mvar5'), (0.9878175807651453, 'mvar14'), (0.9942046464062736, 'mvar49')]\n",
            "[(2.6700000000000004, 'mvar50'), (1.9071931514178713, 'mvar35'), (1.6360878447395293, 'mvar16'), (1.6252651685393267, 'mvar47_L'), (0.9566211092455974, 'mvar28'), (0.7715376072117645, 'mvar18'), (0.7118983538019334, 'mvar17'), (0.6809552345282688, 'mvar39'), (0.6421448635634024, 'mvar46'), (0.5314941780893763, 'mvar37'), (0.43087967824634377, 'mvar1'), (0.3957687237732671, 'mvar22'), (0.3487544688398483, 'mvar4'), (0.3165042320209488, 'mvar29'), (0.3126679473933435, 'mvar20'), (0.3077976505590943, 'mvar9'), (0.29278417822033764, 'mvar32'), (0.2834933111257224, 'mvar19'), (0.26960978885192033, 'mvar34'), (0.22833903098128866, 'mvar30'), (0.21295840008341668, 'mvar27'), (0.1990256811405054, 'mvar48'), (0.19690727024109297, 'mvar42'), (0.18167815834491294, 'mvar8'), (0.17476499018116112, 'mvar6'), (0.16289642645940688, 'mvar45'), (0.15401156671132954, 'mvar23'), (0.1522471915582143, 'mvar26'), (0.13380389431165438, 'mvar21'), (0.1259995565097943, 'mvar25'), (0.09500092042326017, 'mvar12'), (0.06717164189125399, 'mvar41'), (0.05437001874544433, 'mvar2'), (0.04341607429488643, 'mvar36'), (0.03199598879901398, 'mvar11'), (0.0313720396490758, 'mvar10'), (0.024735686353030823, 'mvar3'), (0.02455249137231651, 'mvar40'), (0.024021831606047678, 'mvar38'), (0.0238898650078486, 'mvar33'), (0.015006224922185464, 'mvar13'), (0.013571548105866561, 'mvar15'), (0.008408155815580772, 'mvar24'), (0.006931396751570232, 'mvar31'), (0.005927988878857492, 'mvar43'), (0.0059228756678096255, 'mvar51'), (0.005392482569836589, 'mvar7'), (0.0033853380398499297, 'mvar44'), (0.002024014253157929, 'mvar5'), (0.00023314210266279635, 'mvar14'), (5.275788686050807e-05, 'mvar49')]\n"
          ]
        }
      ]
    },
    {
      "cell_type": "code",
      "source": [
        "from sklearn.feature_selection import f_classif\n",
        "f_p_values=f_classif(Chi_x_ref,Y_default_ind.iloc[nonnull_index])\n",
        "keys = (f_p_values[1])\n",
        "values = Chi_x_ref.columns\n",
        "\n",
        "pvaluef_col = list(zip(keys,values))\n",
        "pvaluef_col.sort(reverse = False)\n",
        "\n",
        "\n",
        "keys = (f_p_values[0])\n",
        "values = Chi_x_ref.columns\n",
        "\n",
        "fvaluef_col = list(zip(keys,values))\n",
        "fvaluef_col.sort(reverse = True)\n",
        "\n",
        "print(pvaluef_col)\n",
        "print(fvaluef_col)"
      ],
      "metadata": {
        "colab": {
          "base_uri": "https://localhost:8080/"
        },
        "id": "1OGpyjmQOZEW",
        "outputId": "c6c7c7b3-291d-48b5-9408-85e5bda68173"
      },
      "execution_count": 176,
      "outputs": [
        {
          "output_type": "stream",
          "name": "stdout",
          "text": [
            "[(2.3472884259304845e-06, 'mvar1'), (5.267939561271364e-06, 'mvar22'), (2.3945031930189163e-05, 'mvar35'), (0.0001522723973915599, 'mvar21'), (0.00023688974422699145, 'mvar16'), (0.000734457847819075, 'mvar18'), (0.0009798305550067006, 'mvar29'), (0.0013481588007501477, 'mvar17'), (0.0018966408764147593, 'mvar37'), (0.00605768091077068, 'mvar32'), (0.006409161872906214, 'mvar6'), (0.006776670503316515, 'mvar23'), (0.006949157891435852, 'mvar9'), (0.00833831815778564, 'mvar8'), (0.009957716567713949, 'mvar39'), (0.01206670146688885, 'mvar10'), (0.0163174042015843, 'mvar25'), (0.02611284547839507, 'mvar13'), (0.0478985855804248, 'mvar12'), (0.04984371233282694, 'mvar20'), (0.054779172142048325, 'mvar27'), (0.059678924190180296, 'mvar46'), (0.06874376234574954, 'mvar19'), (0.06881469344353272, 'mvar42'), (0.07786814636640776, 'mvar34'), (0.09935535739220888, 'mvar50'), (0.10719049777906207, 'mvar30'), (0.1314511457732782, 'mvar26'), (0.1394343023382994, 'mvar47_L'), (0.16690529912043137, 'mvar4'), (0.18385549357785316, 'mvar24'), (0.19923867414698013, 'mvar7'), (0.22042059831851488, 'mvar41'), (0.23103902431252676, 'mvar14'), (0.23302814789814388, 'mvar15'), (0.25929123006556065, 'mvar2'), (0.27055114791896684, 'mvar28'), (0.2752923798722215, 'mvar36'), (0.30916458999018587, 'mvar38'), (0.31994928309611415, 'mvar45'), (0.3615906027210233, 'mvar40'), (0.4190461812809876, 'mvar3'), (0.4657780969041556, 'mvar11'), (0.5983999846431387, 'mvar48'), (0.6256678128041442, 'mvar33'), (0.7392563772610388, 'mvar43'), (0.7535793359235107, 'mvar31'), (0.817335729252717, 'mvar51'), (0.8363116913847134, 'mvar44'), (0.8749601269295099, 'mvar5'), (0.9852588780129743, 'mvar49')]\n",
            "[(23.21746779387641, 'mvar1'), (21.543517475842034, 'mvar22'), (18.446076556155834, 'mvar35'), (14.734574176062589, 'mvar21'), (13.860996972318343, 'mvar16'), (11.650009985776785, 'mvar18'), (11.093201822243735, 'mvar29'), (10.480070623670155, 'mvar17'), (9.82828310667829, 'mvar37'), (7.646251979591189, 'mvar32'), (7.54182798176535, 'mvar6'), (7.438753348497699, 'mvar23'), (7.392340516603908, 'mvar9'), (7.056802181143459, 'mvar8'), (6.731740189013731, 'mvar39'), (6.381930765247535, 'mvar10'), (5.836947795473854, 'mvar25'), (5.000205503144557, 'mvar13'), (3.9472547070727297, 'mvar12'), (3.8793935909063406, 'mvar20'), (3.7191113423926874, 'mvar27'), (3.574539230831049, 'mvar46'), (3.337795187946751, 'mvar19'), (3.3360776138755304, 'mvar42'), (3.1312190616694635, 'mvar34'), (2.733528341597403, 'mvar50'), (2.6114931820959555, 'mvar30'), (2.288321990710744, 'mvar26'), (2.1963587323179423, 'mvar47_L'), (1.920246791385623, 'mvar4'), (1.774723110100673, 'mvar24'), (1.6555753084636124, 'mvar7'), (1.5081970579036394, 'mvar41'), (1.440556796823183, 'mvar14'), (1.4283034024947008, 'mvar15'), (1.277590540739117, 'mvar2'), (1.2186464482748225, 'mvar28'), (1.1947387757791292, 'mvar36'), (1.0379163842921422, 'mvar38'), (0.9925905491063486, 'mvar45'), (0.835024781243074, 'mvar40'), (0.6548730399302101, 'mvar3'), (0.5333965753281806, 'mvar11'), (0.2780341202631003, 'mvar48'), (0.23849545241282594, 'mvar33'), (0.11099592456605785, 'mvar43'), (0.09873661387325149, 'mvar31'), (0.05344655262571953, 'mvar51'), (0.042766772732330205, 'mvar44'), (0.024806822190179597, 'mvar5'), (0.0003419693972075366, 'mvar49')]\n"
          ]
        }
      ]
    },
    {
      "cell_type": "code",
      "source": [
        "imp_col = ['mvar1', 'mvar2', 'mvar9', 'mvar10', 'mvar11', 'mvar12',\n",
        "       'mvar13', 'mvar14', 'mvar15', 'mvar16', 'mvar21', 'mvar22', 'mvar24',\n",
        "       'mvar25', 'mvar26', 'mvar28', 'mvar29', 'mvar33', 'mvar34', 'mvar35',\n",
        "       'mvar36', 'mvar37', 'mvar38', 'mvar39', 'mvar42', 'mvar43', 'mvar44',\n",
        "       'mvar45', 'mvar46', 'mvar48', 'mvar49', 'mvar50', 'mvar47_L', 'mvar345',\n",
        "       'mvar786', 'mvar1719']\n",
        "\n",
        "X_rawtrain_add = X_raw_add[imp_col]"
      ],
      "metadata": {
        "id": "4wE-jrjyTi3Y"
      },
      "execution_count": null,
      "outputs": []
    },
    {
      "cell_type": "code",
      "source": [
        "train_col = ['mvar1', 'mvar2', 'mvar3', 'mvar4', 'mvar5', 'mvar6', 'mvar7', 'mvar8',\n",
        "                            'mvar9', 'mvar10', 'mvar11', 'mvar12', 'mvar13', 'mvar14', 'mvar15',\n",
        "                            'mvar16', 'mvar17', 'mvar18', 'mvar19', 'mvar20', 'mvar21', 'mvar22',\n",
        "                            'mvar24', 'mvar25', 'mvar26', 'mvar28', 'mvar29',\n",
        "                            'mvar32', 'mvar33', 'mvar34', 'mvar35', 'mvar36',\n",
        "                            'mvar37', 'mvar38', 'mvar39',  'mvar42', 'mvar43',\n",
        "                            'mvar44', 'mvar45', 'mvar46', 'mvar48', 'mvar49', 'mvar50',\n",
        "                            'mvar47_L']"
      ],
      "metadata": {
        "id": "1ebOcu8mY53e"
      },
      "execution_count": null,
      "outputs": []
    },
    {
      "cell_type": "code",
      "source": [
        "import xgboost as xg    #replace the missing values in training data using XGboost regressor\n",
        "xgb_r = xg.XGBRegressor(objective ='reg:squarederror', n_estimators = 100, seed = 123, eta = 0.15)"
      ],
      "metadata": {
        "id": "WGfodbklXn41"
      },
      "execution_count": null,
      "outputs": []
    },
    {
      "cell_type": "code",
      "source": [
        "impute_null = X_raw_train.copy(deep = True)\n",
        "impute_null['default_ind'] = Y_default_ind\n",
        "impute_knn_null = impute_null[train_col] "
      ],
      "metadata": {
        "id": "_H_riZbGY_bl"
      },
      "execution_count": null,
      "outputs": []
    },
    {
      "cell_type": "code",
      "source": [
        "count = 0\n",
        "for col in train_col:\n",
        "  count+=1\n",
        "  print(count)\n",
        "  Yt = impute_knn_null[col]\n",
        "  Xt = impute_knn_null.drop(columns =col, axis = 1)\n",
        "  Y_train = Yt.dropna()\n",
        "  X_train = Xt.iloc[Yt.dropna().index]\n",
        "  missing_index =  impute_knn_null[impute_knn_null[col].isna() == True].index \n",
        "  X_test  = Xt.iloc[missing_index]\n",
        "  xgb_r.fit(X_train,Y_train)\n",
        "  pred = xgb_r.predict(X_test)\n",
        "  impute_knn_null[col].iloc[missing_index] = pred"
      ],
      "metadata": {
        "colab": {
          "base_uri": "https://localhost:8080/"
        },
        "id": "aobUF33wXPdq",
        "outputId": "9d6f404f-beef-41cc-e09f-e62f100c0744"
      },
      "execution_count": null,
      "outputs": [
        {
          "output_type": "stream",
          "name": "stdout",
          "text": [
            "1\n"
          ]
        },
        {
          "output_type": "stream",
          "name": "stderr",
          "text": [
            "/usr/local/lib/python3.8/dist-packages/pandas/core/indexing.py:1732: SettingWithCopyWarning: \n",
            "A value is trying to be set on a copy of a slice from a DataFrame\n",
            "\n",
            "See the caveats in the documentation: https://pandas.pydata.org/pandas-docs/stable/user_guide/indexing.html#returning-a-view-versus-a-copy\n",
            "  self._setitem_single_block(indexer, value, name)\n"
          ]
        },
        {
          "output_type": "stream",
          "name": "stdout",
          "text": [
            "2\n",
            "3\n",
            "4\n",
            "5\n",
            "6\n",
            "7\n",
            "8\n",
            "9\n",
            "10\n",
            "11\n",
            "12\n",
            "13\n",
            "14\n",
            "15\n",
            "16\n",
            "17\n",
            "18\n",
            "19\n",
            "20\n",
            "21\n",
            "22\n",
            "23\n",
            "24\n",
            "25\n",
            "26\n",
            "27\n",
            "28\n",
            "29\n",
            "30\n",
            "31\n",
            "32\n",
            "33\n",
            "34\n",
            "35\n",
            "36\n",
            "37\n",
            "38\n",
            "39\n",
            "40\n",
            "41\n",
            "42\n",
            "43\n",
            "44\n"
          ]
        }
      ]
    },
    {
      "cell_type": "code",
      "source": [
        "pip install catboost"
      ],
      "metadata": {
        "colab": {
          "base_uri": "https://localhost:8080/"
        },
        "id": "p69IRMMVWue6",
        "outputId": "c0ead885-cd19-4a2d-f7cd-df02cf7d69a0"
      },
      "execution_count": null,
      "outputs": [
        {
          "output_type": "stream",
          "name": "stdout",
          "text": [
            "Looking in indexes: https://pypi.org/simple, https://us-python.pkg.dev/colab-wheels/public/simple/\n",
            "Collecting catboost\n",
            "  Downloading catboost-1.1.1-cp38-none-manylinux1_x86_64.whl (76.6 MB)\n",
            "\u001b[K     |████████████████████████████████| 76.6 MB 1.3 MB/s \n",
            "\u001b[?25hRequirement already satisfied: plotly in /usr/local/lib/python3.8/dist-packages (from catboost) (5.5.0)\n",
            "Requirement already satisfied: graphviz in /usr/local/lib/python3.8/dist-packages (from catboost) (0.10.1)\n",
            "Requirement already satisfied: matplotlib in /usr/local/lib/python3.8/dist-packages (from catboost) (3.2.2)\n",
            "Requirement already satisfied: pandas>=0.24.0 in /usr/local/lib/python3.8/dist-packages (from catboost) (1.3.5)\n",
            "Requirement already satisfied: numpy>=1.16.0 in /usr/local/lib/python3.8/dist-packages (from catboost) (1.21.6)\n",
            "Requirement already satisfied: six in /usr/local/lib/python3.8/dist-packages (from catboost) (1.15.0)\n",
            "Requirement already satisfied: scipy in /usr/local/lib/python3.8/dist-packages (from catboost) (1.7.3)\n",
            "Requirement already satisfied: python-dateutil>=2.7.3 in /usr/local/lib/python3.8/dist-packages (from pandas>=0.24.0->catboost) (2.8.2)\n",
            "Requirement already satisfied: pytz>=2017.3 in /usr/local/lib/python3.8/dist-packages (from pandas>=0.24.0->catboost) (2022.6)\n",
            "Requirement already satisfied: kiwisolver>=1.0.1 in /usr/local/lib/python3.8/dist-packages (from matplotlib->catboost) (1.4.4)\n",
            "Requirement already satisfied: pyparsing!=2.0.4,!=2.1.2,!=2.1.6,>=2.0.1 in /usr/local/lib/python3.8/dist-packages (from matplotlib->catboost) (3.0.9)\n",
            "Requirement already satisfied: cycler>=0.10 in /usr/local/lib/python3.8/dist-packages (from matplotlib->catboost) (0.11.0)\n",
            "Requirement already satisfied: tenacity>=6.2.0 in /usr/local/lib/python3.8/dist-packages (from plotly->catboost) (8.1.0)\n",
            "Installing collected packages: catboost\n",
            "Successfully installed catboost-1.1.1\n"
          ]
        }
      ]
    },
    {
      "cell_type": "code",
      "source": [
        "from catboost import CatBoostClassifier"
      ],
      "metadata": {
        "id": "h4f4RheRXJHD"
      },
      "execution_count": null,
      "outputs": []
    },
    {
      "cell_type": "code",
      "source": [
        "import xgboost\n",
        "xgb = xgboost.XGBClassifier(n_estimators = 2000,scale_pos_weight=2.48,eta = 0.2)\n",
        "xgb1 = xgboost.XGBClassifier(n_estimators = 2000,scale_pos_weight=2.46, eta = 0.2)\n",
        "xgb2 = xgboost.XGBClassifier(n_estimators = 2000,scale_pos_weight=2.46, eta = 0.2)\n",
        "model = CatBoostClassifier(iterations=1000,learning_rate = 0.1, scale_pos_weight = 2.48, verbose = False)\n",
        "model_raw = CatBoostClassifier(iterations=1000,learning_rate = 0.05, scale_pos_weight = 2.46, verbose = False)\n",
        "model_raw_imp_col = CatBoostClassifier(iterations=1000,learning_rate = 0.05, scale_pos_weight = 2.46, verbose = False)\n",
        "cw= {0: 0.287,\n",
        "     1: 0.713}\n",
        "import lightgbm as lgb\n",
        "from lightgbm import LGBMClassifier\n",
        "lgb = LGBMClassifier(class_weight = cw)\n",
        "lgb1 = LGBMClassifier(class_weight = cw)\n",
        "lgb2 = LGBMClassifier(class_weight = cw)\n"
      ],
      "metadata": {
        "id": "iWr9Qbl4T4EI"
      },
      "execution_count": null,
      "outputs": []
    },
    {
      "cell_type": "code",
      "source": [
        "X = impute_knn_null.copy(deep = True)"
      ],
      "metadata": {
        "id": "nz-ulfR4fM93"
      },
      "execution_count": null,
      "outputs": []
    },
    {
      "cell_type": "code",
      "source": [
        "X['mvar345'] = X['mvar3']+X['mvar4']+X['mvar5']\n",
        "X['mvar786'] = X['mvar7']+X['mvar8']-X['mvar6']\n",
        "X['mvar1719'] = X['mvar17']+X['mvar19']"
      ],
      "metadata": {
        "id": "UFOtFLTaf7JK"
      },
      "execution_count": null,
      "outputs": []
    },
    {
      "cell_type": "code",
      "source": [
        "X.drop(columns = ['mvar3','mvar4','mvar5','mvar7','mvar8','mvar6','mvar17','mvar19'],axis = 1,  inplace = True)"
      ],
      "metadata": {
        "id": "Mxdf5EATfdBL"
      },
      "execution_count": null,
      "outputs": []
    },
    {
      "cell_type": "code",
      "source": [
        "X.drop(columns = ['mvar18', 'mvar20', 'mvar32'],axis = 1,  inplace = True)"
      ],
      "metadata": {
        "id": "jlzQWktbgkx1"
      },
      "execution_count": null,
      "outputs": []
    },
    {
      "cell_type": "code",
      "source": [
        "from sklearn.metrics import f1_score"
      ],
      "metadata": {
        "id": "3v3GTJSCiKC4"
      },
      "execution_count": null,
      "outputs": []
    },
    {
      "cell_type": "code",
      "source": [
        "#ensemble of 9 models\n",
        "import statistics\n",
        "from statistics import mode\n",
        "indices  = np.random.choice(np.arange(83000),66400,replace = False)\n",
        "test_ind = np.array(list(set(np.arange(83000)).difference(set(indices))))\n",
        "X_train_1 = X.iloc[indices]\n",
        "X_train_2 = X_raw_train.iloc[indices]\n",
        "X_train_3 = X_rawtrain_add.iloc[indices]\n",
        "Y_train   = Y_default_ind.iloc[indices]\n",
        "X_test_1 = X.iloc[test_ind]\n",
        "X_test_2 = X_raw_train.iloc[test_ind]\n",
        "X_test_3 = X_rawtrain_add.iloc[test_ind]\n",
        "Y_test  = Y_default_ind.iloc[test_ind]\n",
        "model.fit(X_train_1,Y_train)#give knn imputed test data\n",
        "model_raw.fit(X_train_2,Y_train)# give raw testing data\n",
        "model_raw_imp_col.fit(X_train_3,Y_train)# give raw testing but only imp col\n",
        "xgb.fit(X_train_1,Y_train)\n",
        "xgb1.fit(X_train_2,Y_train)\n",
        "xgb2.fit(X_train_3,Y_train)\n",
        "lgb.fit(X_train_1,Y_train)\n",
        "lgb1.fit(X_train_2,Y_train)\n",
        "lgb2.fit(X_train_3,Y_train)\n",
        "y_pred1 = model.predict(X_test_1)\n",
        "y_pred2 = model_raw.predict(X_test_2)\n",
        "y_pred3 = model_raw_imp_col.predict(X_test_3)\n",
        "y_pred4 = xgb.predict(X_test_1)\n",
        "y_pred5 = xgb1.predict(X_test_2)\n",
        "y_pred6 = xgb2.predict(X_test_3)\n",
        "y_pred7 = lgb.predict(X_test_1)\n",
        "y_pred8 = lgb1.predict(X_test_2)\n",
        "y_pred9 = lgb2.predict(X_test_3)\n",
        "y_pred_com = np.array([y_pred1,\n",
        "              y_pred2,\n",
        "              y_pred3,\n",
        "              y_pred4,\n",
        "              y_pred5,\n",
        "              y_pred6,\n",
        "              y_pred7,\n",
        "              y_pred8,\n",
        "              y_pred9])\n",
        "y_pred_ensemble = np.array([mode(y_pred_com[:,i]) for i in range(len(Y_test))])\n",
        "f1_score(Y_test,y_pred_ensemble)"
      ],
      "metadata": {
        "colab": {
          "base_uri": "https://localhost:8080/"
        },
        "id": "ly32z715Tvgq",
        "outputId": "bec44e59-745f-4875-ccef-aa4007041c29"
      },
      "execution_count": null,
      "outputs": [
        {
          "output_type": "execute_result",
          "data": {
            "text/plain": [
              "0.5980843617609137"
            ]
          },
          "metadata": {},
          "execution_count": 114
        }
      ]
    },
    {
      "cell_type": "code",
      "source": [
        "test = pd.get_dummies(test,columns = ['mvar47'],drop_first = True)\n",
        "for i in test.columns:\n",
        "  test[i] = pd.to_numeric(test[i], errors='coerce')\n"
      ],
      "metadata": {
        "id": "YRMlFDEn2c5t"
      },
      "execution_count": null,
      "outputs": []
    },
    {
      "cell_type": "code",
      "source": [
        "test =  pd.DataFrame(sc.transform(test), columns = test.columns)"
      ],
      "metadata": {
        "id": "-W1LE-c0XIOy"
      },
      "execution_count": null,
      "outputs": []
    },
    {
      "cell_type": "code",
      "source": [
        "test.drop(columns = ['application_key'] ,axis = 1, inplace = True)"
      ],
      "metadata": {
        "id": "wJg94pFSXQci"
      },
      "execution_count": null,
      "outputs": []
    },
    {
      "cell_type": "code",
      "source": [
        "test['mvar345'] = test['mvar3']+test['mvar4']+test['mvar5']\n",
        "test['mvar786'] = test['mvar7']+test['mvar8']-test['mvar6']\n",
        "test['mvar1719'] = test['mvar17']+test['mvar19']"
      ],
      "metadata": {
        "id": "RBA5DcGb2i_N"
      },
      "execution_count": null,
      "outputs": []
    },
    {
      "cell_type": "code",
      "source": [
        "test = test[imp_col]"
      ],
      "metadata": {
        "id": "1WNp6N8KX_YO"
      },
      "execution_count": null,
      "outputs": []
    },
    {
      "cell_type": "code",
      "source": [
        "impute_knn_null['mvar345'] = impute_knn_null['mvar3']+impute_knn_null['mvar4']+impute_knn_null['mvar5']\n",
        "impute_knn_null['mvar786'] = impute_knn_null['mvar7']+impute_knn_null['mvar8']-impute_knn_null['mvar6']\n",
        "impute_knn_null['mvar1719'] = impute_knn_null['mvar17']+impute_knn_null['mvar19']\n",
        "knn_train = impute_knn_null.drop(columns = ['mvar3','mvar4','mvar5','mvar7','mvar8','mvar6','mvar17','mvar19','mvar18', 'mvar20', 'mvar32'],axis = 1)"
      ],
      "metadata": {
        "colab": {
          "base_uri": "https://localhost:8080/"
        },
        "id": "o7em_BPOGl7q",
        "outputId": "d4ae7b21-afbc-40c8-a921-b664434d1527"
      },
      "execution_count": null,
      "outputs": [
        {
          "output_type": "stream",
          "name": "stderr",
          "text": [
            "<ipython-input-154-3b8c72ffc4a4>:1: SettingWithCopyWarning: \n",
            "A value is trying to be set on a copy of a slice from a DataFrame.\n",
            "Try using .loc[row_indexer,col_indexer] = value instead\n",
            "\n",
            "See the caveats in the documentation: https://pandas.pydata.org/pandas-docs/stable/user_guide/indexing.html#returning-a-view-versus-a-copy\n",
            "  impute_knn_null['mvar345'] = impute_knn_null['mvar3']+impute_knn_null['mvar4']+impute_knn_null['mvar5']\n",
            "<ipython-input-154-3b8c72ffc4a4>:2: SettingWithCopyWarning: \n",
            "A value is trying to be set on a copy of a slice from a DataFrame.\n",
            "Try using .loc[row_indexer,col_indexer] = value instead\n",
            "\n",
            "See the caveats in the documentation: https://pandas.pydata.org/pandas-docs/stable/user_guide/indexing.html#returning-a-view-versus-a-copy\n",
            "  impute_knn_null['mvar786'] = impute_knn_null['mvar7']+impute_knn_null['mvar8']-impute_knn_null['mvar6']\n",
            "<ipython-input-154-3b8c72ffc4a4>:3: SettingWithCopyWarning: \n",
            "A value is trying to be set on a copy of a slice from a DataFrame.\n",
            "Try using .loc[row_indexer,col_indexer] = value instead\n",
            "\n",
            "See the caveats in the documentation: https://pandas.pydata.org/pandas-docs/stable/user_guide/indexing.html#returning-a-view-versus-a-copy\n",
            "  impute_knn_null['mvar1719'] = impute_knn_null['mvar17']+impute_knn_null['mvar19']\n"
          ]
        }
      ]
    },
    {
      "cell_type": "code",
      "source": [
        "d_test = test.copy(deep = True)\n",
        "l = [d_test,knn_train]\n",
        "knn_data = pd.concat(l)\n",
        "from sklearn.impute import KNNImputer   #test data also has null values\n",
        "imputer = KNNImputer(n_neighbors=10)    #combine the test data and train data, and replace null values in train data using KNN imputer\n",
        "imputed_sklearn_knn_data = imputer.fit_transform(knn_data)"
      ],
      "metadata": {
        "id": "9P3Z-1v_2rSM"
      },
      "execution_count": null,
      "outputs": []
    },
    {
      "cell_type": "code",
      "source": [
        "imputed_sklearn_knn_data = pd.DataFrame(imputed_sklearn_knn_data, columns =imp_col )\n",
        "imputed_sklearn_knn_data.info()"
      ],
      "metadata": {
        "colab": {
          "base_uri": "https://localhost:8080/"
        },
        "id": "si80Q1uBUSVp",
        "outputId": "3241782f-c6dc-4715-ab59-8905081cbc39"
      },
      "execution_count": null,
      "outputs": [
        {
          "output_type": "stream",
          "name": "stdout",
          "text": [
            "<class 'pandas.core.frame.DataFrame'>\n",
            "RangeIndex: 130000 entries, 0 to 129999\n",
            "Data columns (total 36 columns):\n",
            " #   Column    Non-Null Count   Dtype  \n",
            "---  ------    --------------   -----  \n",
            " 0   mvar1     130000 non-null  float64\n",
            " 1   mvar2     130000 non-null  float64\n",
            " 2   mvar9     130000 non-null  float64\n",
            " 3   mvar10    130000 non-null  float64\n",
            " 4   mvar11    130000 non-null  float64\n",
            " 5   mvar12    130000 non-null  float64\n",
            " 6   mvar13    130000 non-null  float64\n",
            " 7   mvar14    130000 non-null  float64\n",
            " 8   mvar15    130000 non-null  float64\n",
            " 9   mvar16    130000 non-null  float64\n",
            " 10  mvar21    130000 non-null  float64\n",
            " 11  mvar22    130000 non-null  float64\n",
            " 12  mvar24    130000 non-null  float64\n",
            " 13  mvar25    130000 non-null  float64\n",
            " 14  mvar26    130000 non-null  float64\n",
            " 15  mvar28    130000 non-null  float64\n",
            " 16  mvar29    130000 non-null  float64\n",
            " 17  mvar33    130000 non-null  float64\n",
            " 18  mvar34    130000 non-null  float64\n",
            " 19  mvar35    130000 non-null  float64\n",
            " 20  mvar36    130000 non-null  float64\n",
            " 21  mvar37    130000 non-null  float64\n",
            " 22  mvar38    130000 non-null  float64\n",
            " 23  mvar39    130000 non-null  float64\n",
            " 24  mvar42    130000 non-null  float64\n",
            " 25  mvar43    130000 non-null  float64\n",
            " 26  mvar44    130000 non-null  float64\n",
            " 27  mvar45    130000 non-null  float64\n",
            " 28  mvar46    130000 non-null  float64\n",
            " 29  mvar48    130000 non-null  float64\n",
            " 30  mvar49    130000 non-null  float64\n",
            " 31  mvar50    130000 non-null  float64\n",
            " 32  mvar47_L  130000 non-null  float64\n",
            " 33  mvar345   130000 non-null  float64\n",
            " 34  mvar786   130000 non-null  float64\n",
            " 35  mvar1719  130000 non-null  float64\n",
            "dtypes: float64(36)\n",
            "memory usage: 35.7 MB\n"
          ]
        }
      ]
    },
    {
      "cell_type": "code",
      "source": [
        "testing = imputed_sklearn_knn_data[:47000]"
      ],
      "metadata": {
        "id": "8S_134ONWU1w"
      },
      "execution_count": null,
      "outputs": []
    },
    {
      "cell_type": "code",
      "source": [
        "testing.head()"
      ],
      "metadata": {
        "colab": {
          "base_uri": "https://localhost:8080/",
          "height": 299
        },
        "id": "KiTzcVsLhOYS",
        "outputId": "5f13d5a2-8463-423f-ddde-4426f4d4ec11"
      },
      "execution_count": null,
      "outputs": [
        {
          "output_type": "execute_result",
          "data": {
            "text/plain": [
              "      mvar1     mvar2     mvar9    mvar10    mvar11    mvar12    mvar13  \\\n",
              "0 -0.300664 -0.280994 -0.459844 -0.452141 -0.260553 -0.602775 -0.296231   \n",
              "1  0.500774 -0.545854  0.917423 -0.183288 -0.241717 -0.305790 -0.287533   \n",
              "2 -0.058124 -0.351144 -0.648111 -0.438873 -0.200704 -0.343076 -0.268453   \n",
              "3 -0.659203 -0.510908 -0.646939 -0.406098 -0.078525 -0.605374 -0.296049   \n",
              "4 -0.859562  0.136820 -0.662261 -0.448166 -0.252388 -0.599820 -0.295436   \n",
              "\n",
              "     mvar14    mvar15    mvar16  ...    mvar44    mvar45    mvar46    mvar48  \\\n",
              "0 -0.018840 -0.693628 -0.363228  ...  0.861174 -0.242866 -0.283197  2.430992   \n",
              "1  0.001173  0.557769 -0.363228  ...  0.972026 -0.242866 -0.283197 -0.486041   \n",
              "2 -0.008967  0.723565 -0.363228  ...  1.073322 -0.242866 -0.283197 -0.492365   \n",
              "3 -0.009501  0.280309 -0.196042  ...  1.193120  0.997141 -0.283197 -0.473393   \n",
              "4 -0.019774 -0.199415 -0.363228  ...  1.177545  0.270258 -0.283197 -0.421900   \n",
              "\n",
              "     mvar49   mvar50  mvar47_L   mvar345   mvar786  mvar1719  \n",
              "0 -0.319352 -0.63166 -0.771255 -0.168887 -0.646244 -0.911383  \n",
              "1 -0.319352 -0.63166 -0.771255 -0.946329  0.091190 -0.911383  \n",
              "2 -1.357839 -0.63166 -0.771255 -0.946329  0.151285 -0.911383  \n",
              "3 -0.499356 -0.63166 -0.771255  1.344524 -0.982734 -0.706118  \n",
              "4 -1.253990 -0.63166  1.296587 -0.946329 -0.693640 -0.911383  \n",
              "\n",
              "[5 rows x 36 columns]"
            ],
            "text/html": [
              "\n",
              "  <div id=\"df-11199865-b018-4d77-a206-0168359ab756\">\n",
              "    <div class=\"colab-df-container\">\n",
              "      <div>\n",
              "<style scoped>\n",
              "    .dataframe tbody tr th:only-of-type {\n",
              "        vertical-align: middle;\n",
              "    }\n",
              "\n",
              "    .dataframe tbody tr th {\n",
              "        vertical-align: top;\n",
              "    }\n",
              "\n",
              "    .dataframe thead th {\n",
              "        text-align: right;\n",
              "    }\n",
              "</style>\n",
              "<table border=\"1\" class=\"dataframe\">\n",
              "  <thead>\n",
              "    <tr style=\"text-align: right;\">\n",
              "      <th></th>\n",
              "      <th>mvar1</th>\n",
              "      <th>mvar2</th>\n",
              "      <th>mvar9</th>\n",
              "      <th>mvar10</th>\n",
              "      <th>mvar11</th>\n",
              "      <th>mvar12</th>\n",
              "      <th>mvar13</th>\n",
              "      <th>mvar14</th>\n",
              "      <th>mvar15</th>\n",
              "      <th>mvar16</th>\n",
              "      <th>...</th>\n",
              "      <th>mvar44</th>\n",
              "      <th>mvar45</th>\n",
              "      <th>mvar46</th>\n",
              "      <th>mvar48</th>\n",
              "      <th>mvar49</th>\n",
              "      <th>mvar50</th>\n",
              "      <th>mvar47_L</th>\n",
              "      <th>mvar345</th>\n",
              "      <th>mvar786</th>\n",
              "      <th>mvar1719</th>\n",
              "    </tr>\n",
              "  </thead>\n",
              "  <tbody>\n",
              "    <tr>\n",
              "      <th>0</th>\n",
              "      <td>-0.300664</td>\n",
              "      <td>-0.280994</td>\n",
              "      <td>-0.459844</td>\n",
              "      <td>-0.452141</td>\n",
              "      <td>-0.260553</td>\n",
              "      <td>-0.602775</td>\n",
              "      <td>-0.296231</td>\n",
              "      <td>-0.018840</td>\n",
              "      <td>-0.693628</td>\n",
              "      <td>-0.363228</td>\n",
              "      <td>...</td>\n",
              "      <td>0.861174</td>\n",
              "      <td>-0.242866</td>\n",
              "      <td>-0.283197</td>\n",
              "      <td>2.430992</td>\n",
              "      <td>-0.319352</td>\n",
              "      <td>-0.63166</td>\n",
              "      <td>-0.771255</td>\n",
              "      <td>-0.168887</td>\n",
              "      <td>-0.646244</td>\n",
              "      <td>-0.911383</td>\n",
              "    </tr>\n",
              "    <tr>\n",
              "      <th>1</th>\n",
              "      <td>0.500774</td>\n",
              "      <td>-0.545854</td>\n",
              "      <td>0.917423</td>\n",
              "      <td>-0.183288</td>\n",
              "      <td>-0.241717</td>\n",
              "      <td>-0.305790</td>\n",
              "      <td>-0.287533</td>\n",
              "      <td>0.001173</td>\n",
              "      <td>0.557769</td>\n",
              "      <td>-0.363228</td>\n",
              "      <td>...</td>\n",
              "      <td>0.972026</td>\n",
              "      <td>-0.242866</td>\n",
              "      <td>-0.283197</td>\n",
              "      <td>-0.486041</td>\n",
              "      <td>-0.319352</td>\n",
              "      <td>-0.63166</td>\n",
              "      <td>-0.771255</td>\n",
              "      <td>-0.946329</td>\n",
              "      <td>0.091190</td>\n",
              "      <td>-0.911383</td>\n",
              "    </tr>\n",
              "    <tr>\n",
              "      <th>2</th>\n",
              "      <td>-0.058124</td>\n",
              "      <td>-0.351144</td>\n",
              "      <td>-0.648111</td>\n",
              "      <td>-0.438873</td>\n",
              "      <td>-0.200704</td>\n",
              "      <td>-0.343076</td>\n",
              "      <td>-0.268453</td>\n",
              "      <td>-0.008967</td>\n",
              "      <td>0.723565</td>\n",
              "      <td>-0.363228</td>\n",
              "      <td>...</td>\n",
              "      <td>1.073322</td>\n",
              "      <td>-0.242866</td>\n",
              "      <td>-0.283197</td>\n",
              "      <td>-0.492365</td>\n",
              "      <td>-1.357839</td>\n",
              "      <td>-0.63166</td>\n",
              "      <td>-0.771255</td>\n",
              "      <td>-0.946329</td>\n",
              "      <td>0.151285</td>\n",
              "      <td>-0.911383</td>\n",
              "    </tr>\n",
              "    <tr>\n",
              "      <th>3</th>\n",
              "      <td>-0.659203</td>\n",
              "      <td>-0.510908</td>\n",
              "      <td>-0.646939</td>\n",
              "      <td>-0.406098</td>\n",
              "      <td>-0.078525</td>\n",
              "      <td>-0.605374</td>\n",
              "      <td>-0.296049</td>\n",
              "      <td>-0.009501</td>\n",
              "      <td>0.280309</td>\n",
              "      <td>-0.196042</td>\n",
              "      <td>...</td>\n",
              "      <td>1.193120</td>\n",
              "      <td>0.997141</td>\n",
              "      <td>-0.283197</td>\n",
              "      <td>-0.473393</td>\n",
              "      <td>-0.499356</td>\n",
              "      <td>-0.63166</td>\n",
              "      <td>-0.771255</td>\n",
              "      <td>1.344524</td>\n",
              "      <td>-0.982734</td>\n",
              "      <td>-0.706118</td>\n",
              "    </tr>\n",
              "    <tr>\n",
              "      <th>4</th>\n",
              "      <td>-0.859562</td>\n",
              "      <td>0.136820</td>\n",
              "      <td>-0.662261</td>\n",
              "      <td>-0.448166</td>\n",
              "      <td>-0.252388</td>\n",
              "      <td>-0.599820</td>\n",
              "      <td>-0.295436</td>\n",
              "      <td>-0.019774</td>\n",
              "      <td>-0.199415</td>\n",
              "      <td>-0.363228</td>\n",
              "      <td>...</td>\n",
              "      <td>1.177545</td>\n",
              "      <td>0.270258</td>\n",
              "      <td>-0.283197</td>\n",
              "      <td>-0.421900</td>\n",
              "      <td>-1.253990</td>\n",
              "      <td>-0.63166</td>\n",
              "      <td>1.296587</td>\n",
              "      <td>-0.946329</td>\n",
              "      <td>-0.693640</td>\n",
              "      <td>-0.911383</td>\n",
              "    </tr>\n",
              "  </tbody>\n",
              "</table>\n",
              "<p>5 rows × 36 columns</p>\n",
              "</div>\n",
              "      <button class=\"colab-df-convert\" onclick=\"convertToInteractive('df-11199865-b018-4d77-a206-0168359ab756')\"\n",
              "              title=\"Convert this dataframe to an interactive table.\"\n",
              "              style=\"display:none;\">\n",
              "        \n",
              "  <svg xmlns=\"http://www.w3.org/2000/svg\" height=\"24px\"viewBox=\"0 0 24 24\"\n",
              "       width=\"24px\">\n",
              "    <path d=\"M0 0h24v24H0V0z\" fill=\"none\"/>\n",
              "    <path d=\"M18.56 5.44l.94 2.06.94-2.06 2.06-.94-2.06-.94-.94-2.06-.94 2.06-2.06.94zm-11 1L8.5 8.5l.94-2.06 2.06-.94-2.06-.94L8.5 2.5l-.94 2.06-2.06.94zm10 10l.94 2.06.94-2.06 2.06-.94-2.06-.94-.94-2.06-.94 2.06-2.06.94z\"/><path d=\"M17.41 7.96l-1.37-1.37c-.4-.4-.92-.59-1.43-.59-.52 0-1.04.2-1.43.59L10.3 9.45l-7.72 7.72c-.78.78-.78 2.05 0 2.83L4 21.41c.39.39.9.59 1.41.59.51 0 1.02-.2 1.41-.59l7.78-7.78 2.81-2.81c.8-.78.8-2.07 0-2.86zM5.41 20L4 18.59l7.72-7.72 1.47 1.35L5.41 20z\"/>\n",
              "  </svg>\n",
              "      </button>\n",
              "      \n",
              "  <style>\n",
              "    .colab-df-container {\n",
              "      display:flex;\n",
              "      flex-wrap:wrap;\n",
              "      gap: 12px;\n",
              "    }\n",
              "\n",
              "    .colab-df-convert {\n",
              "      background-color: #E8F0FE;\n",
              "      border: none;\n",
              "      border-radius: 50%;\n",
              "      cursor: pointer;\n",
              "      display: none;\n",
              "      fill: #1967D2;\n",
              "      height: 32px;\n",
              "      padding: 0 0 0 0;\n",
              "      width: 32px;\n",
              "    }\n",
              "\n",
              "    .colab-df-convert:hover {\n",
              "      background-color: #E2EBFA;\n",
              "      box-shadow: 0px 1px 2px rgba(60, 64, 67, 0.3), 0px 1px 3px 1px rgba(60, 64, 67, 0.15);\n",
              "      fill: #174EA6;\n",
              "    }\n",
              "\n",
              "    [theme=dark] .colab-df-convert {\n",
              "      background-color: #3B4455;\n",
              "      fill: #D2E3FC;\n",
              "    }\n",
              "\n",
              "    [theme=dark] .colab-df-convert:hover {\n",
              "      background-color: #434B5C;\n",
              "      box-shadow: 0px 1px 3px 1px rgba(0, 0, 0, 0.15);\n",
              "      filter: drop-shadow(0px 1px 2px rgba(0, 0, 0, 0.3));\n",
              "      fill: #FFFFFF;\n",
              "    }\n",
              "  </style>\n",
              "\n",
              "      <script>\n",
              "        const buttonEl =\n",
              "          document.querySelector('#df-11199865-b018-4d77-a206-0168359ab756 button.colab-df-convert');\n",
              "        buttonEl.style.display =\n",
              "          google.colab.kernel.accessAllowed ? 'block' : 'none';\n",
              "\n",
              "        async function convertToInteractive(key) {\n",
              "          const element = document.querySelector('#df-11199865-b018-4d77-a206-0168359ab756');\n",
              "          const dataTable =\n",
              "            await google.colab.kernel.invokeFunction('convertToInteractive',\n",
              "                                                     [key], {});\n",
              "          if (!dataTable) return;\n",
              "\n",
              "          const docLinkHtml = 'Like what you see? Visit the ' +\n",
              "            '<a target=\"_blank\" href=https://colab.research.google.com/notebooks/data_table.ipynb>data table notebook</a>'\n",
              "            + ' to learn more about interactive tables.';\n",
              "          element.innerHTML = '';\n",
              "          dataTable['output_type'] = 'display_data';\n",
              "          await google.colab.output.renderOutput(dataTable, element);\n",
              "          const docLink = document.createElement('div');\n",
              "          docLink.innerHTML = docLinkHtml;\n",
              "          element.appendChild(docLink);\n",
              "        }\n",
              "      </script>\n",
              "    </div>\n",
              "  </div>\n",
              "  "
            ]
          },
          "metadata": {},
          "execution_count": 159
        }
      ]
    },
    {
      "cell_type": "code",
      "source": [
        "raw_test = pd.read_csv('testX.csv')"
      ],
      "metadata": {
        "colab": {
          "base_uri": "https://localhost:8080/"
        },
        "id": "pcq3MffoicS7",
        "outputId": "70953dc1-e959-41d0-8da9-2486db5c8b08"
      },
      "execution_count": null,
      "outputs": [
        {
          "output_type": "stream",
          "name": "stderr",
          "text": [
            "/usr/local/lib/python3.8/dist-packages/IPython/core/interactiveshell.py:3326: DtypeWarning: Columns (19) have mixed types.Specify dtype option on import or set low_memory=False.\n",
            "  exec(code_obj, self.user_global_ns, self.user_ns)\n"
          ]
        }
      ]
    },
    {
      "cell_type": "code",
      "source": [
        "raw_test = pd.get_dummies(raw_test,columns = ['mvar47'],drop_first = True)\n",
        "for i in raw_test.columns:\n",
        "  raw_test[i] = pd.to_numeric(raw_test[i], errors='coerce')\n",
        "raw_test =  pd.DataFrame(sc.transform(raw_test), columns = raw_test.columns)"
      ],
      "metadata": {
        "id": "Yu4fB-YHioOg"
      },
      "execution_count": null,
      "outputs": []
    },
    {
      "cell_type": "code",
      "source": [
        "raw_test.drop(columns = ['application_key'],axis =1 , inplace = True)"
      ],
      "metadata": {
        "id": "_AQVEO51jpu7"
      },
      "execution_count": null,
      "outputs": []
    },
    {
      "cell_type": "code",
      "source": [
        "test_raw_add = raw_test.copy(deep = True)\n",
        "test_raw_add['mvar345'] = test_raw_add['mvar3']+test_raw_add['mvar4']+test_raw_add['mvar5']\n",
        "test_raw_add['mvar786'] = test_raw_add['mvar7']+test_raw_add['mvar8']-test_raw_add['mvar6']\n",
        "test_raw_add['mvar1719'] = test_raw_add['mvar17']+test_raw_add['mvar19']\n",
        "test_raw_add = test_raw_add[imp_col]"
      ],
      "metadata": {
        "id": "ksTjbJlji8GN"
      },
      "execution_count": null,
      "outputs": []
    },
    {
      "cell_type": "code",
      "source": [
        "Y_pred1 = model.predict(testing)\n",
        "Y_pred2 = model_raw.predict(raw_test)\n",
        "Y_pred3 = model_raw_imp_col.predict(test_raw_add)\n",
        "Y_pred4 = xgb.predict(testing)\n",
        "Y_pred5 = xgb1.predict(raw_test)\n",
        "Y_pred6 = xgb2.predict(test_raw_add)\n",
        "Y_pred7 = lgb.predict(testing)\n",
        "Y_pred8 = lgb1.predict(raw_test)\n",
        "Y_pred9 = lgb2.predict(test_raw_add)\n",
        "Y_pred_com = np.array([Y_pred1,\n",
        "              Y_pred2,\n",
        "              Y_pred3,\n",
        "              Y_pred4,\n",
        "              Y_pred5,\n",
        "              Y_pred6,\n",
        "              Y_pred7,\n",
        "              Y_pred8,\n",
        "              Y_pred9])\n",
        "Y_pred_ensemble = np.array([mode(Y_pred_com[:,i]) for i in range(47000)])"
      ],
      "metadata": {
        "id": "rcKYC2d3hasi"
      },
      "execution_count": null,
      "outputs": []
    },
    {
      "cell_type": "code",
      "source": [
        "df = pd.read_csv(\"testX.csv\")"
      ],
      "metadata": {
        "id": "lcWJQ-HZkLEu"
      },
      "execution_count": null,
      "outputs": []
    },
    {
      "cell_type": "code",
      "source": [
        "predictions = pd.DataFrame([])\n",
        "predictions['application_key'] = df['application_key']\n",
        "predictions['default_ind'] = Y_pred_ensemble\n",
        "predictions.to_csv('DataScience_Novices.csv', index = False,header = False)"
      ],
      "metadata": {
        "id": "z0_shJGkjSff"
      },
      "execution_count": null,
      "outputs": []
    },
    {
      "cell_type": "code",
      "source": [
        "#ensemble of six models\n",
        "import statistics\n",
        "from statistics import mode\n",
        "indices  = np.random.choice(np.arange(83000),66400,replace = False)\n",
        "test_ind = np.array(list(set(np.arange(83000)).difference(set(indices))))\n",
        "#X_train_1 = X.iloc[indices]\n",
        "X_train_2 = X_raw_train.iloc[indices]\n",
        "X_train_3 = X_rawtrain_add.iloc[indices]\n",
        "Y_train   = Y_default_ind.iloc[indices]\n",
        "#X_test_1 = X.iloc[test_ind]\n",
        "X_test_2 = X_raw_train.iloc[test_ind]\n",
        "X_test_3 = X_rawtrain_add.iloc[test_ind]\n",
        "Y_test  = Y_default_ind.iloc[test_ind]\n",
        "#model.fit(X_train_1,Y_train)#give knn imputed test data\n",
        "model_raw.fit(X_train_2,Y_train)# give raw testing data\n",
        "model_raw_imp_col.fit(X_train_3,Y_train)# give raw testing but only imp col\n",
        "#xgb.fit(X_train_1,Y_train)\n",
        "xgb1.fit(X_train_2,Y_train)\n",
        "xgb2.fit(X_train_3,Y_train)\n",
        "#lgb.fit(X_train_1,Y_train)\n",
        "lgb1.fit(X_train_2,Y_train)\n",
        "lgb2.fit(X_train_3,Y_train)\n",
        "#y_pred1 = model.predict(X_test_1)\n",
        "y_pred2 = model_raw.predict(X_test_2)\n",
        "y_pred3 = model_raw_imp_col.predict(X_test_3)\n",
        "#y_pred4 = xgb.predict(X_test_1)\n",
        "y_pred5 = xgb1.predict(X_test_2)\n",
        "y_pred6 = xgb2.predict(X_test_3)\n",
        "#y_pred7 = lgb.predict(X_test_1)\n",
        "y_pred8 = lgb1.predict(X_test_2)\n",
        "y_pred9 = lgb2.predict(X_test_3)\n",
        "y_pred_com = np.array([\n",
        "              y_pred2,\n",
        "              y_pred3,\n",
        "              y_pred5,\n",
        "              y_pred6,\n",
        "              y_pred8,\n",
        "              y_pred9])\n",
        "y_pred_ensemble = np.array([mode(y_pred_com[:,i]) for i in range(len(Y_test))])\n",
        "f1_score(Y_test,y_pred_ensemble)\n"
      ],
      "metadata": {
        "colab": {
          "base_uri": "https://localhost:8080/"
        },
        "id": "AjsEtIuzkb3Y",
        "outputId": "fcb4f115-0b8b-4cf7-8b4b-fb346b376c6d"
      },
      "execution_count": null,
      "outputs": [
        {
          "output_type": "execute_result",
          "data": {
            "text/plain": [
              "0.5996156310057655"
            ]
          },
          "metadata": {},
          "execution_count": 173
        }
      ]
    },
    {
      "cell_type": "code",
      "source": [
        "#predictions based on 6 models\n",
        "Y_pred2 = model_raw.predict(raw_test)\n",
        "Y_pred3 = model_raw_imp_col.predict(test_raw_add)\n",
        "Y_pred5 = xgb1.predict(raw_test)\n",
        "Y_pred6 = xgb2.predict(test_raw_add)\n",
        "Y_pred8 = lgb1.predict(raw_test)\n",
        "Y_pred9 = lgb2.predict(test_raw_add)\n",
        "Y_pred_com = np.array([\n",
        "              Y_pred2,\n",
        "              Y_pred3,\n",
        "              Y_pred5,\n",
        "              Y_pred6,\n",
        "              Y_pred8,\n",
        "              Y_pred9])\n",
        "Y_pred_ensemble_6 = np.array([mode(Y_pred_com[:,i]) for i in range(47000)])"
      ],
      "metadata": {
        "id": "vN0_Q3bZlENV"
      },
      "execution_count": null,
      "outputs": []
    },
    {
      "cell_type": "code",
      "source": [
        "predictions = pd.DataFrame([])\n",
        "predictions['application_key'] = df['application_key']\n",
        "predictions['default_ind'] = Y_pred_ensemble_6\n",
        "predictions.to_csv('DataScience_Novices_6models.csv', index = False,header = False)"
      ],
      "metadata": {
        "id": "lic5tDxYleMH"
      },
      "execution_count": null,
      "outputs": []
    }
  ]
}